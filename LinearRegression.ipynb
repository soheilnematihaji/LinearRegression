{
 "cells": [
  {
   "cell_type": "code",
   "execution_count": 1,
   "metadata": {},
   "outputs": [],
   "source": [
    "import numpy as np\n",
    "from numpy import linalg as LA\n",
    "\n",
    "import unittest"
   ]
  },
  {
   "cell_type": "code",
   "execution_count": 2,
   "metadata": {},
   "outputs": [],
   "source": [
    "\n",
    "class LinearRegression():\n",
    "    \n",
    "        \n",
    "    def __init__(self,X_train,Y_train):\n",
    "        self.X_train=np.append([[1]]*len(X_train),X_train,1)\n",
    "        self.Y_train=Y_train\n",
    "        self.fittedLine=self.findBestFitLine()\n",
    "        \n",
    "    def fit(self,X_train,Y_train):\n",
    "        self.X_train=np.append([[1]]*len(X_train), X_train,1)\n",
    "        self.Y_train=Y_train\n",
    "        self.fittedLine=self.findBestFitLine()\n",
    "        \n",
    "    def findBestFitLine(self):\n",
    "        A=self.X_train.T@self.X_train\n",
    "        Y=self.X_train.T@self.Y_train\n",
    "        return LA.pinv(A)@Y\n",
    "    \n",
    "    def predict(self,newPoint):\n",
    "        point=np.append([[1]],newPoint,1)\n",
    "        return point@self.fittedLine\n",
    "    \n",
    "    def predict_batch(self,batchPoint):\n",
    "        batchPoint=np.append([[1]]*len(batchPoint),batchPoint,1)\n",
    "        return batchPoint@self.fittedLine \n",
    "\n",
    "\n",
    "    "
   ]
  },
  {
   "cell_type": "code",
   "execution_count": 3,
   "metadata": {},
   "outputs": [
    {
     "name": "stderr",
     "output_type": "stream",
     "text": [
      "....\n",
      "----------------------------------------------------------------------\n",
      "Ran 4 tests in 3.966s\n",
      "\n",
      "OK\n"
     ]
    }
   ],
   "source": [
    "class Test(unittest.TestCase):\n",
    "    \n",
    "    # This is a variable to generate normal train set with train_size size\n",
    "    #increasing or decreasing it may effect the test\n",
    "    train_size=5000\n",
    "    \n",
    "    # batchsize is used to test the batch methods\n",
    "    batchsize=100\n",
    "    \n",
    "    # This is a variable to generate huge train set with train_size size\n",
    "    #increasing this will effect the time of the tests\n",
    "    efficiency_train_size=1000000\n",
    "    \n",
    "    batchsize_eff=100000\n",
    "    def generate_random_noraml_point(self,count,pointCount):\n",
    "        point=[[(i+count)] for i in range(pointCount)]\n",
    "        x_train=[[i] for i in range(count)]\n",
    "        y_train=[[i] for i in range(count)]+np.random.randn(count, 1)\n",
    "        return point,x_train,y_train \n",
    "    \n",
    "    def test_fitLine(self):\n",
    "        point,x_train,y_train=self.generate_random_noraml_point(self.train_size,1)\n",
    "        model=LinearRegression(np.array(x_train),np.array(y_train))\n",
    "        bestLine=model.findBestFitLine()\n",
    "        assert LA.norm(bestLine-[[0],[1]]) < 0.1\n",
    "        \n",
    "    def test_predict(self):\n",
    "        point,x_train,y_train=self.generate_random_noraml_point(self.train_size,1)\n",
    "        model=LinearRegression(np.array(x_train),np.array(y_train))\n",
    "        y=model.predict(point)\n",
    "        assert LA.norm(y-point) < 0.06\n",
    "        \n",
    "    def test_predictBatch(self):\n",
    "        point,x_train,y_train=self.generate_random_noraml_point(self.train_size,self.batchsize)\n",
    "        model=LinearRegression(np.array(x_train),np.array(y_train))\n",
    "        y=model.predict_batch(np.array(point))\n",
    "        for i in range(len(point)):\n",
    "            assert LA.norm(y[i]-point[i]) < 0.06\n",
    "            \n",
    "    def test_predictBatch_efficiency(self):\n",
    "        point,x_train,y_train=self.generate_random_noraml_point(self.efficiency_train_size,self.batchsize_eff)\n",
    "        model=LinearRegression(np.array(x_train),np.array(y_train))\n",
    "        y=model.predict_batch(np.array(point))\n",
    "    \n",
    "        \n",
    "        \n",
    "if __name__== '__main__':\n",
    "    unittest.main(argv=['first-arg-is-ignored'], exit=False)"
   ]
  }
 ],
 "metadata": {
  "kernelspec": {
   "display_name": "Python 3",
   "language": "python",
   "name": "python3"
  },
  "language_info": {
   "codemirror_mode": {
    "name": "ipython",
    "version": 3
   },
   "file_extension": ".py",
   "mimetype": "text/x-python",
   "name": "python",
   "nbconvert_exporter": "python",
   "pygments_lexer": "ipython3",
   "version": "3.8.5"
  }
 },
 "nbformat": 4,
 "nbformat_minor": 4
}
