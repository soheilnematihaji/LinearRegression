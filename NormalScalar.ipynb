{
 "cells": [
  {
   "cell_type": "code",
   "execution_count": 1,
   "metadata": {},
   "outputs": [],
   "source": [
    "import numpy as np\n",
    "from numpy import linalg as LA\n",
    "\n",
    "import unittest"
   ]
  },
  {
   "cell_type": "code",
   "execution_count": 58,
   "metadata": {},
   "outputs": [],
   "source": [
    "\n",
    "class NormalScalar:\n",
    "    \n",
    "    def fit(self,X):\n",
    "        self.mean=X.mean(axis=0)\n",
    "        self.std=np.std(X,axis=0)\n",
    "        \n",
    "    def transform(self,x):\n",
    "        return (x-self.mean)/self.std\n",
    "        \n",
    "    def fit_transform(self,X):\n",
    "        self.fit(X)\n",
    "        return self.transform(X)\n",
    "    \n",
    "    def inverse(self,x):\n",
    "        return x*self.std+self.mean\n",
    "        "
   ]
  },
  {
   "cell_type": "code",
   "execution_count": 59,
   "metadata": {},
   "outputs": [
    {
     "name": "stderr",
     "output_type": "stream",
     "text": [
      ".....\n",
      "----------------------------------------------------------------------\n",
      "Ran 5 tests in 2.042s\n",
      "\n",
      "OK\n"
     ]
    }
   ],
   "source": [
    "class TestGD(unittest.TestCase): \n",
    "    \n",
    "    dataSize=40\n",
    "    eff_dataSize=1000000\n",
    "    \n",
    "    def getData(self,size):\n",
    "        return np.array([[i,2*i] for i in range(size)])\n",
    "    \n",
    "    def test_fit(self):\n",
    "        X_train=self.getData(self.dataSize)\n",
    "        normalScalar=NormalScalar()\n",
    "        normalScalar.fit(X_train)\n",
    "        assert np.array_equal(normalScalar.mean, [19.5, 39.], equal_nan=True)\n",
    "        assert np.array_equal(np.around(normalScalar.std,decimals=2), [11.54 ,23.09], equal_nan=True)\n",
    "        \n",
    "    def test_transform(self):\n",
    "        X_train=self.getData(self.dataSize)\n",
    "        normalScalar=NormalScalar()\n",
    "        normalScalar.fit(X_train)\n",
    "        transformed_x=normalScalar.transform(X_train)\n",
    "        assert transformed_x.shape==(self.dataSize, 2)\n",
    "        assert np.array_equal(np.round(transformed_x[:2,:2],decimals=2), [[-1.69 ,-1.69],[-1.6 , -1.6 ]], equal_nan=True)\n",
    "        \n",
    "    def test_inverse(self):\n",
    "        X_train=self.getData(self.dataSize)\n",
    "        normalScalar=NormalScalar()\n",
    "        normalScalar.fit(X_train)\n",
    "        transformed_x=normalScalar.transform(X_train)\n",
    "        assert np.array_equal(np.rint(normalScalar.inverse(transformed_x)), X_train, equal_nan=True)\n",
    "        \n",
    "    def test_fit_transform(self):\n",
    "        X_train=self.getData(self.dataSize)\n",
    "        normalScalar=NormalScalar()\n",
    "        transformed_x=normalScalar.fit_transform(X_train)\n",
    "        assert np.array_equal(normalScalar.mean, [19.5, 39.], equal_nan=True)\n",
    "        assert np.array_equal(np.around(normalScalar.std,decimals=2), [11.54 ,23.09], equal_nan=True)\n",
    "        assert transformed_x.shape==(self.dataSize, 2)\n",
    "        assert np.array_equal(np.round(transformed_x[:2,:2],decimals=2), [[-1.69 ,-1.69],[-1.6 , -1.6 ]], equal_nan=True)\n",
    "        assert np.array_equal(np.rint(normalScalar.inverse(transformed_x)), X_train, equal_nan=True)\n",
    "    \n",
    "    def test_fit_transform_eff(self):\n",
    "        X_train=self.getData(self.eff_dataSize)\n",
    "        normalScalar=NormalScalar()\n",
    "        transformed_x=normalScalar.fit_transform(X_train)\n",
    "        assert transformed_x.shape==(self.eff_dataSize, 2)\n",
    "        assert np.array_equal(np.round(transformed_x[:2,:2],decimals=2), [[-1.73 ,-1.73],[-1.73 , -1.73 ]], equal_nan=True)\n",
    "        assert np.array_equal(np.rint(normalScalar.inverse(transformed_x)), X_train, equal_nan=True)\n",
    "        \n",
    "        \n",
    "if __name__== '__main__':\n",
    "    unittest.main(argv=['first-arg-is-ignored'], exit=False)"
   ]
  },
  {
   "cell_type": "code",
   "execution_count": null,
   "metadata": {},
   "outputs": [],
   "source": []
  }
 ],
 "metadata": {
  "kernelspec": {
   "display_name": "Python 3",
   "language": "python",
   "name": "python3"
  },
  "language_info": {
   "codemirror_mode": {
    "name": "ipython",
    "version": 3
   },
   "file_extension": ".py",
   "mimetype": "text/x-python",
   "name": "python",
   "nbconvert_exporter": "python",
   "pygments_lexer": "ipython3",
   "version": "3.8.5"
  }
 },
 "nbformat": 4,
 "nbformat_minor": 4
}
