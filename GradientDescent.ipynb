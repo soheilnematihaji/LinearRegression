{
 "cells": [
  {
   "cell_type": "code",
   "execution_count": 5,
   "metadata": {},
   "outputs": [],
   "source": [
    "import numpy as np\n",
    "from numpy import linalg as LA\n",
    "\n",
    "import unittest"
   ]
  },
  {
   "cell_type": "code",
   "execution_count": 27,
   "metadata": {},
   "outputs": [],
   "source": [
    "\n",
    "class GradientDescent:\n",
    "    \n",
    "    \n",
    "    def gradient(self,function,x,delta_val):\n",
    "        \"\"\"\n",
    "        function: a lambda function as the input to compute function(x) and function(x+delta)\n",
    "        x: the input to the function it can be numpy array of any length\n",
    "        delta_val: this is refering to the delta value in calculating the gradient\n",
    "            for example for 1 dimenstion delta:= d in (f(x+d)-f(x))/d   \n",
    "        \"\"\"\n",
    "        n=len(x)\n",
    "        delta = delta_val*np.eye(n)# defining len(x) dimention with value of delta_val in the diognal to calculate the gradient\n",
    "        \n",
    "        return np.array([ (function(x+delta[i])-function(x))/delta_val for i in range(n)])\n",
    "        \n",
    "    def gradientDescent(self, function, initial_point, iterations=10000, learning_rate=0.1, delta_val=0.01,decay=None):\n",
    "        if type(initial_point)!=np.ndarray:\n",
    "            raise ValueError(\"Only accepting ndarrays as input, please update your function\")\n",
    "        theta=initial_point\n",
    "        for i in range(iterations):\n",
    "            if(decay):\n",
    "                #Updating the learning rate if the decay function were presented\n",
    "                learning_rate=decay(learning_rate,i)\n",
    "            theta=theta-learning_rate*self.gradient(function,theta,delta_val)\n",
    "        return theta\n",
    "    "
   ]
  },
  {
   "cell_type": "code",
   "execution_count": 48,
   "metadata": {},
   "outputs": [
    {
     "name": "stderr",
     "output_type": "stream",
     "text": [
      "......\n",
      "----------------------------------------------------------------------\n",
      "Ran 6 tests in 1.413s\n",
      "\n",
      "OK\n"
     ]
    }
   ],
   "source": [
    "class TestGD(unittest.TestCase):\n",
    "    \n",
    "    iterations=500\n",
    "    efficiency_iterations=100000\n",
    "    \n",
    "    def f(self,x):\n",
    "        return x[0]*x[0]+2*x[1]*x[1]\n",
    "    \n",
    "    def decay(self,learning_rate,i):\n",
    "        return learning_rate*(10*i+1)/(10*i+2)\n",
    "    \n",
    "    def test_gradient(self):\n",
    "        gd=GradientDescent()\n",
    "        gradient=gd.gradient(self.f,[3,2],0.01)\n",
    "        assert LA.norm(gradient-[6 ,8]) < 0.03\n",
    "        \n",
    "    def test_gradientDescent(self):\n",
    "        gd=GradientDescent()\n",
    "        min_val=gd.gradientDescent(self.f,np.array([5,5]),self.iterations,0.1,0.0001)\n",
    "        assert LA.norm(min_val-[0 ,0]) < 0.03\n",
    "        \n",
    "    def test_gradientDescent_eff(self):\n",
    "        gd=GradientDescent()\n",
    "        min_val=gd.gradientDescent(self.f,np.array([20,20]),self.efficiency_iterations,0.1,0.0001)\n",
    "        assert LA.norm(min_val-[0 ,0]) < 0.03\n",
    "        \n",
    "    def test_ValueError(self):\n",
    "        gd=GradientDescent()\n",
    "        with self.assertRaises(ValueError) as context:\n",
    "            min_val=gd.gradientDescent(self.f,5)\n",
    "            \n",
    "    def test_gradientDescent_decay(self):\n",
    "        gd=GradientDescent()\n",
    "        min_val=gd.gradientDescent(self.f,np.array([20,20]),self.iterations,0.9,0.0001,self.decay)\n",
    "        assert LA.norm(min_val-[0 ,0]) < 0.03    \n",
    "        \n",
    "    def regression_J_cost_function(self,th):\n",
    "        X_train=np.array([[i] for i in range(40)])\n",
    "        Y_train=np.array([[i] for i in range(40)])\n",
    "        m=X_train.shape[0]\n",
    "        th=th.reshape([1,1])\n",
    "        return ((X_train@th.T-Y_train).T@(X_train@th.T-Y_train))[0][0]/(2*m)   \n",
    "    \n",
    "    def test_against_regression(self):\n",
    "        theta_0=np.array([0 for i in range(1)])\n",
    "        gd=GradientDescent()\n",
    "        theta=gd.gradientDescent(self.regression_J_cost_function, theta_0,iterations=500,learning_rate=0.0001,delta_val=0.0001)\n",
    "        assert LA.norm(theta-[1]) < 0.03    \n",
    "        \n",
    "if __name__== '__main__':\n",
    "    unittest.main(argv=['first-arg-is-ignored'], exit=False)"
   ]
  },
  {
   "cell_type": "code",
   "execution_count": null,
   "metadata": {},
   "outputs": [],
   "source": []
  }
 ],
 "metadata": {
  "kernelspec": {
   "display_name": "Python 3",
   "language": "python",
   "name": "python3"
  },
  "language_info": {
   "codemirror_mode": {
    "name": "ipython",
    "version": 3
   },
   "file_extension": ".py",
   "mimetype": "text/x-python",
   "name": "python",
   "nbconvert_exporter": "python",
   "pygments_lexer": "ipython3",
   "version": "3.8.5"
  }
 },
 "nbformat": 4,
 "nbformat_minor": 4
}
